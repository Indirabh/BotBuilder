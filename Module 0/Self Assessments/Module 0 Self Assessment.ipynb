{
  "cells": [
    {
      "cell_type": "markdown",
      "metadata": {
        "id": "view-in-github",
        "colab_type": "text"
      },
      "source": [
        "<a href=\"https://colab.research.google.com/github/Indirabh/BotBuilder/blob/master/Module%200/Self%20Assessments/Module%200%20Self%20Assessment.ipynb\" target=\"_parent\"><img src=\"https://colab.research.google.com/assets/colab-badge.svg\" alt=\"Open In Colab\"/></a>"
      ]
    },
    {
      "cell_type": "markdown",
      "id": "4570e2a4",
      "metadata": {
        "id": "4570e2a4"
      },
      "source": [
        "# Self-Assessment for Module 0\n",
        "Module 0 in this course focuses on your ability to access and manipulate data using Python. Use this assessment to test your existing knowledge. You should be able to complete all six exercises within 90 minutes.\n",
        "\n",
        "If you are unable to complete the exercises within 90 minutes, strongly consider attending the Bootcamp sessions we offer. They will build the Python skills necessary to succeed in the first module of this course.\n",
        "\n",
        "When you are ready, start a [countdown timer](https://www.youtube.com/watch?v=IG9o_I96Y78). Let's get to coding!\n",
        "\n",
        "\n"
      ]
    },
    {
      "cell_type": "markdown",
      "id": "2f69086d",
      "metadata": {
        "id": "2f69086d"
      },
      "source": [
        "## Exercise 0: Converting Total Score to Letter Grade\n",
        "**Testing Your Knowledge of:** If Statements + Logical Conditions\n",
        "\n",
        "<br>\n",
        "\n",
        "**Input:** A float 'course_score', the overall score a student achieved in the course.\n",
        "\n",
        "\n",
        "**Tasks:**\n",
        "Complete the function **'convert_score_to_letter'**:\n",
        "1. Determine what letter grade the student would achieve in the course based on their 'course_score'.\n",
        "\n",
        "*Hint*: Use the letter grade cutoff information provided in the [syllabus](https://hackmd.io/@richie/BkpC2BThh). Any grade below a 60 should return a letter grade of 'F'.\n",
        "\n",
        "\n",
        "**Output:** Return a string with the letter grade the student will receive."
      ]
    },
    {
      "cell_type": "code",
      "execution_count": 5,
      "id": "2dc1cda8",
      "metadata": {
        "id": "2dc1cda8"
      },
      "outputs": [],
      "source": [
        "### Define demo inputs\n",
        "\n",
        "demo_course_score = 80.6"
      ]
    },
    {
      "cell_type": "markdown",
      "id": "8fea7cd6",
      "metadata": {
        "id": "8fea7cd6"
      },
      "source": [
        "A correct solution to the demo input should return the letter grade:  \n",
        "```python\n",
        "B\n",
        "```"
      ]
    },
    {
      "cell_type": "code",
      "execution_count": 9,
      "id": "de963b04",
      "metadata": {
        "id": "de963b04",
        "colab": {
          "base_uri": "https://localhost:8080/"
        },
        "outputId": "0352fc13-ec8e-41be-e9cf-11ff2733cb38"
      },
      "outputs": [
        {
          "output_type": "stream",
          "name": "stdout",
          "text": [
            "B\n"
          ]
        }
      ],
      "source": [
        "def convert_score_to_letter(course_score):\n",
        "    ###\n",
        "    v_Grade = ''\n",
        "    if course_score >= 90.0:\n",
        "       v_Grade = 'A'\n",
        "    elif course_score >= 80.0 and course_score < 90.0:\n",
        "       v_Grade = 'B'\n",
        "    elif course_score >=70.0 and course_score < 80.0:\n",
        "       v_Grade = 'C'\n",
        "    elif course_score >= 60.0 and course_score < 70.0 :\n",
        "      v_Grade = 'D'\n",
        "    else :\n",
        "      v_Grade = 'F'\n",
        "\n",
        "    return v_Grade\n",
        "    ###\n",
        "\n",
        "\n",
        "\n",
        "print(convert_score_to_letter(demo_course_score))"
      ]
    },
    {
      "cell_type": "code",
      "execution_count": 10,
      "id": "d31de5fa",
      "metadata": {
        "id": "d31de5fa",
        "colab": {
          "base_uri": "https://localhost:8080/"
        },
        "outputId": "26b4265a-3c64-43ad-d742-0d6bfc241c1e"
      },
      "outputs": [
        {
          "output_type": "stream",
          "name": "stdout",
          "text": [
            "\n",
            "(Passed!)\n"
          ]
        }
      ],
      "source": [
        "# Test cell: convert_score_to_letter\n",
        "\n",
        "assert isinstance(convert_score_to_letter(91.6), str), 'Sorry, your result is not a string!'\n",
        "assert convert_score_to_letter(90.0) == 'A', 'Sorry, your letter grade returned is not correct!'\n",
        "assert convert_score_to_letter(60.0) == 'D', 'Sorry, your letter grade returned is not correct!'\n",
        "assert convert_score_to_letter(12.4) == 'F', 'Sorry, your letter grade returned is not correct!'\n",
        "assert convert_score_to_letter(89) == 'B', 'Sorry, your letter grade returned is not correct!'\n",
        "assert convert_score_to_letter(69.999) == 'D', 'Sorry, your letter grade returned is not correct!'\n",
        "assert convert_score_to_letter(70.01) == 'C', 'Sorry, your letter grade returned is not correct!'\n",
        "assert convert_score_to_letter(79.999) == 'C', 'Sorry, your letter grade returned is not correct!'\n",
        "assert convert_score_to_letter(89.999999) == 'B', 'Sorry, your letter grade returned is not correct!'\n",
        "assert convert_score_to_letter(80.0) == 'B', 'Sorry, your letter grade returned is not correct!'\n",
        "\n",
        "print(\"\\n(Passed!)\")"
      ]
    },
    {
      "cell_type": "markdown",
      "id": "3940a880",
      "metadata": {
        "id": "3940a880"
      },
      "source": [
        "## Exercise 1: Calculating Course Score\n",
        "**Testing Your Knowledge of:** Accessing Simple Nested Data + Math to Code + Rounding\n",
        "\n",
        "<br>\n",
        "\n",
        "**Input:**\n",
        "There are two inputs:\n",
        "1. 'grades' is a dictionary where the key is the assignment name, and the value is the score achieved out of 100.\n",
        "2. 'weights' is a list of tuples where the 0th element of the tuple is the assignment name, and the 1st element is the weight of that assignment in the course.\n",
        "\n",
        "**Tasks:**\n",
        "Complete the function **'find_course_total'**:\n",
        "1. Find the total score the student would obtain in the course by summing all of the assignment grades multiplied by their corresponding weights using the formula:\n",
        "\n",
        "![formula_img.JPG](https://github.com/gt-cse-6040/bootcamp/blob/main/Module%200/Self%20Assessments/formula_img.png?raw=1)\n",
        "   \n",
        "2. Round the total score to the second decimal place\n",
        "\n",
        "**Output:** Return the total score as a float value."
      ]
    },
    {
      "cell_type": "code",
      "execution_count": 15,
      "id": "2f107b37",
      "metadata": {
        "id": "2f107b37"
      },
      "outputs": [],
      "source": [
        "### Define demo inputs\n",
        "\n",
        "demo_grades = {'NB0':100, 'NB1':87.5, 'NB2':100, 'NB4':75, 'NB5':70, 'NB7':100, 'NB9':50, 'NB10':100, 'NB11':77.5,\n",
        "               'NB12':56.25, 'NB13':100, 'NB14':100, 'NB15':100, 'MT1':75, 'MT2':85, 'Final':85, 'Extra Credit':66.667}\n",
        "\n",
        "demo_weights = [('NB0',2), ('NB1',4), ('NB2',4), ('NB4',4), ('NB5',4), ('NB7',4), ('NB9',4), ('NB10',4), ('NB11',4),\n",
        "               ('NB12',4), ('NB13',4), ('NB14',4), ('NB15',4), ('MT1',10), ('MT2',15), ('Final',25), ('Extra Credit',3)]\n"
      ]
    },
    {
      "cell_type": "markdown",
      "id": "744f563b",
      "metadata": {
        "id": "744f563b"
      },
      "source": [
        "A correct solution to the demo input above should return a course total of\n",
        "```python\n",
        "86.15\n",
        "```"
      ]
    },
    {
      "cell_type": "code",
      "source": [
        "import pandas as pd\n",
        "df_grade = pd.DataFrame.from_dict(demo_grades,orient='index')\n",
        "\n",
        "df = pd.DataFrame(demo_grades,index=[0])\n",
        "print (df)\n",
        "df2 = df.transpose()\n",
        "df2.columns = ['grade']\n",
        "print(df2)\n",
        "print(df_grade)\n",
        "df_weight = pd.DataFrame(demo_weights, columns = ('sub','wt'))\n",
        "df_weight['grade']=df_weight['sub'].map(demo_grades)\n",
        "df_weight['val']= (df_weight['grade'] * df_weight['wt'] )/ 100\n",
        "weight_sum = sum(df_weight['val'])\n",
        "print(df_weight)\n",
        "print(weight_sum)\n",
        "\n"
      ],
      "metadata": {
        "colab": {
          "base_uri": "https://localhost:8080/",
          "height": 1000
        },
        "id": "dwCLTmkOyD8n",
        "outputId": "83470ce5-e37b-4766-fc91-d01252343ed6"
      },
      "id": "dwCLTmkOyD8n",
      "execution_count": 53,
      "outputs": [
        {
          "output_type": "stream",
          "name": "stdout",
          "text": [
            "   NB0   NB1  NB2  NB4  NB5  NB7  NB9  NB10  NB11   NB12  NB13  NB14  NB15  \\\n",
            "0  100  87.5  100   75   70  100   50   100  77.5  56.25   100   100   100   \n",
            "\n",
            "   MT1  MT2  Final  Extra Credit  \n",
            "0   75   85     85        66.667  \n",
            "                grade\n",
            "NB0           100.000\n",
            "NB1            87.500\n",
            "NB2           100.000\n",
            "NB4            75.000\n",
            "NB5            70.000\n",
            "NB7           100.000\n",
            "NB9            50.000\n",
            "NB10          100.000\n",
            "NB11           77.500\n",
            "NB12           56.250\n",
            "NB13          100.000\n",
            "NB14          100.000\n",
            "NB15          100.000\n",
            "MT1            75.000\n",
            "MT2            85.000\n",
            "Final          85.000\n",
            "Extra Credit   66.667\n",
            "                    0\n",
            "NB0           100.000\n",
            "NB1            87.500\n",
            "NB2           100.000\n",
            "NB4            75.000\n",
            "NB5            70.000\n",
            "NB7           100.000\n",
            "NB9            50.000\n",
            "NB10          100.000\n",
            "NB11           77.500\n",
            "NB12           56.250\n",
            "NB13          100.000\n",
            "NB14          100.000\n",
            "NB15          100.000\n",
            "MT1            75.000\n",
            "MT2            85.000\n",
            "Final          85.000\n",
            "Extra Credit   66.667\n",
            "             sub  wt    grade       val\n",
            "0            NB0   2  100.000   2.00000\n",
            "1            NB1   4   87.500   3.50000\n",
            "2            NB2   4  100.000   4.00000\n",
            "3            NB4   4   75.000   3.00000\n",
            "4            NB5   4   70.000   2.80000\n",
            "5            NB7   4  100.000   4.00000\n",
            "6            NB9   4   50.000   2.00000\n",
            "7           NB10   4  100.000   4.00000\n",
            "8           NB11   4   77.500   3.10000\n",
            "9           NB12   4   56.250   2.25000\n",
            "10          NB13   4  100.000   4.00000\n",
            "11          NB14   4  100.000   4.00000\n",
            "12          NB15   4  100.000   4.00000\n",
            "13           MT1  10   75.000   7.50000\n",
            "14           MT2  15   85.000  12.75000\n",
            "15         Final  25   85.000  21.25000\n",
            "16  Extra Credit   3   66.667   2.00001\n",
            "86.15001000000001\n"
          ]
        },
        {
          "output_type": "error",
          "ename": "NameError",
          "evalue": "name 'df_final' is not defined",
          "traceback": [
            "\u001b[0;31m---------------------------------------------------------------------------\u001b[0m",
            "\u001b[0;31mNameError\u001b[0m                                 Traceback (most recent call last)",
            "\u001b[0;32m<ipython-input-53-24d3a0f7c1ab>\u001b[0m in \u001b[0;36m<cell line: 17>\u001b[0;34m()\u001b[0m\n\u001b[1;32m     15\u001b[0m \u001b[0mprint\u001b[0m\u001b[0;34m(\u001b[0m\u001b[0mweight_sum\u001b[0m\u001b[0;34m)\u001b[0m\u001b[0;34m\u001b[0m\u001b[0;34m\u001b[0m\u001b[0m\n\u001b[1;32m     16\u001b[0m \u001b[0;34m\u001b[0m\u001b[0m\n\u001b[0;32m---> 17\u001b[0;31m \u001b[0mprint\u001b[0m\u001b[0;34m(\u001b[0m\u001b[0mdf_final\u001b[0m\u001b[0;34m)\u001b[0m\u001b[0;34m\u001b[0m\u001b[0;34m\u001b[0m\u001b[0m\n\u001b[0m",
            "\u001b[0;31mNameError\u001b[0m: name 'df_final' is not defined"
          ]
        }
      ]
    },
    {
      "cell_type": "code",
      "execution_count": 59,
      "id": "4e28b484",
      "metadata": {
        "id": "4e28b484",
        "colab": {
          "base_uri": "https://localhost:8080/"
        },
        "outputId": "5d17a956-2772-4e5b-df6f-97363141b5cc"
      },
      "outputs": [
        {
          "output_type": "stream",
          "name": "stdout",
          "text": [
            "86.15\n"
          ]
        }
      ],
      "source": [
        "import pandas as pd\n",
        "def find_course_total(grades, weights):\n",
        "    ###\n",
        "    df_weight = pd.DataFrame(weights,columns=['sub','wt'])\n",
        "    df_weight['grade']=df_weight['sub'].map(grades)\n",
        "    df_weight['val']= (df_weight['grade']*df_weight['wt']) / 100\n",
        "    weight_sum = sum(df_weight['val'])\n",
        "\n",
        "    return round(weight_sum,2)\n",
        "    ###\n",
        "\n",
        "\n",
        "\n",
        "\n",
        "print(find_course_total(demo_grades, demo_weights))"
      ]
    },
    {
      "cell_type": "code",
      "execution_count": 60,
      "id": "667a299e",
      "metadata": {
        "id": "667a299e",
        "colab": {
          "base_uri": "https://localhost:8080/"
        },
        "outputId": "79e07cfb-abdb-446c-e5d1-ffdb10198b21"
      },
      "outputs": [
        {
          "output_type": "stream",
          "name": "stdout",
          "text": [
            "\n",
            "(Passed!)\n"
          ]
        }
      ],
      "source": [
        "# Test cell: find_course_total\n",
        "\n",
        "weights = [('NB0',2), ('NB1',4), ('NB2',4), ('NB4',4), ('NB5',4), ('NB7',4), ('NB9',4), ('NB10',4), ('NB11',4),\n",
        "               ('NB12',4), ('NB13',4), ('NB14',4), ('NB15',4), ('MT1',10), ('MT2',15), ('Final',25), ('Extra Credit',3)]\n",
        "\n",
        "assert find_course_total({'NB0':100, 'NB1':87.5, 'NB2':100, 'NB4':75, 'NB5':70, 'NB7':100, 'NB9':50, 'NB10':100, 'NB11':77.5,\n",
        "                         'NB12':56.25, 'NB13':100, 'NB14':100, 'NB15':100, 'MT1':75, 'MT2':85, 'Final':85,\n",
        "                         'Extra Credit':66.667}, weights) == 86.15, 'Sorry, your course sum is incorrect!'\n",
        "assert find_course_total({'NB0':100, 'NB1':80, 'NB2':70, 'NB4':65, 'NB5':100, 'NB7':90, 'NB9':95, 'NB10':0, 'NB11':50,\n",
        "                         'NB12':50, 'NB13':80, 'NB14':85, 'NB15':90, 'MT1':50, 'MT2':97, 'Final':100,\n",
        "                         'Extra Credit':100}, weights) == 83.75, 'Sorry, your course sum is incorrect!'\n",
        "assert find_course_total({'NB0':50, 'NB1':50, 'NB2':50, 'NB4':80, 'NB5':80, 'NB7':90, 'NB9':90, 'NB10':50, 'NB11':100,\n",
        "                         'NB12':100, 'NB13':100, 'NB14':50, 'NB15':100, 'MT1':100, 'MT2':100, 'Final':100,\n",
        "                         'Extra Credit':66.67}, weights) == 90.60, 'Sorry, your course sum is incorrect!'\n",
        "assert find_course_total({'NB0':100, 'NB1':100, 'NB2':100, 'NB4':100, 'NB5':100, 'NB7':100, 'NB9':100, 'NB10':100, 'NB11':100,\n",
        "                         'NB12':100, 'NB13':100, 'NB14':100, 'NB15':100, 'MT1':50, 'MT2':75, 'Final':84,\n",
        "                         'Extra Credit':100}, weights) == 90.25, 'Sorry, your course sum is incorrect!'\n",
        "assert isinstance(find_course_total({'NB0':100, 'NB1':100, 'NB2':100, 'NB4':100, 'NB5':100, 'NB7':100, 'NB9':100,\n",
        "                                    'NB10':100, 'NB11':100, 'NB12':100, 'NB13':100, 'NB14':100, 'NB15':100, 'MT1':100,\n",
        "                                    'MT2':100, 'Final':100, 'Extra Credit':100}, weights), float), 'Sorry, your result is not a float!'\n",
        "\n",
        "print(\"\\n(Passed!)\")"
      ]
    },
    {
      "cell_type": "markdown",
      "id": "f2834d82",
      "metadata": {
        "id": "f2834d82"
      },
      "source": [
        "## Exercise 2: Better Understanding the Syllabus\n",
        "\n",
        "**Testing Your Knowledge of:** Lists + Sets + Sorting/Slicing\n",
        "\n",
        "<br>\n",
        "\n",
        "We want to identify which words in the syllabus are the most important. Luckily, we have been provided a set of the most important words. We want to return the first 3 important words in alphabetical order.\n",
        "\n",
        "**Input:**\n",
        "\n",
        "There are two inputs:\n",
        "1. 'syllabus_words' is a list of words found in the syllabus. There may be duplicate words in this list.\n",
        "2. 'important_words' is a set of the most important words found in the syllabus.\n",
        "\n",
        "**Tasks:**\n",
        "Complete the function **'syllabus_words_importance'**:\n",
        "1. Find the distinct words in 'syllabus_words'\n",
        "2. Determine which words are in 'important_words'\n",
        "3. Sort the result of Step 2 alphabetically\n",
        "4. Return the first three important words (there may be less than three)\n",
        "\n",
        "**Output:**\n",
        "Return a list of the first three important words in alphabetical order (there may be less than three).\n"
      ]
    },
    {
      "cell_type": "code",
      "execution_count": 101,
      "id": "eb08edc4",
      "metadata": {
        "id": "eb08edc4"
      },
      "outputs": [],
      "source": [
        "### Define demo inputs\n",
        "\n",
        "demo_syllabus_words = ['the', 'a', 'utc', 'it', 'frequently', 'piazza', 'is', 'for', 'notebook', 'vocareum']\n",
        "demo_important_words = {'utc', 'autograder', 'vocareum', 'notebook', '48-hour extension', 'proctored exams', 'piazza'}\n"
      ]
    },
    {
      "cell_type": "markdown",
      "id": "90a5cecc",
      "metadata": {
        "id": "90a5cecc"
      },
      "source": [
        "A correct solution to the demo input should return:\n",
        "```python\n",
        "['notebook', 'piazza', 'utc']\n",
        "```"
      ]
    },
    {
      "cell_type": "code",
      "source": [
        "df_words = pd.DataFrame(demo_syllabus_words,columns=['word'])\n",
        "print(df_words)\n",
        "df_imp = pd.DataFrame(demo_important_words,columns =['imp'])\n",
        "print (df_imp)\n",
        "df_2 = df_words.drop_duplicates()\n",
        "print (df_2)\n",
        "df_3 = pd.merge(df_2,df_imp, left_on = 'word' ,right_on = 'imp', how = 'left').dropna().sort_values('word')\n",
        "ls_op = df_3['word'].tolist()[:3]\n",
        "print (ls_op)"
      ],
      "metadata": {
        "colab": {
          "base_uri": "https://localhost:8080/"
        },
        "id": "pm-elJ1jAdXN",
        "outputId": "8a037cba-cb52-4cc0-a8e0-dd9074eb9db9"
      },
      "id": "pm-elJ1jAdXN",
      "execution_count": 114,
      "outputs": [
        {
          "output_type": "stream",
          "name": "stdout",
          "text": [
            "         word\n",
            "0         the\n",
            "1           a\n",
            "2         utc\n",
            "3          it\n",
            "4  frequently\n",
            "5      piazza\n",
            "6          is\n",
            "7         for\n",
            "8    notebook\n",
            "9    vocareum\n",
            "                 imp\n",
            "0           vocareum\n",
            "1                utc\n",
            "2         autograder\n",
            "3  48-hour extension\n",
            "4             piazza\n",
            "5           notebook\n",
            "6    proctored exams\n",
            "         word\n",
            "0         the\n",
            "1           a\n",
            "2         utc\n",
            "3          it\n",
            "4  frequently\n",
            "5      piazza\n",
            "6          is\n",
            "7         for\n",
            "8    notebook\n",
            "9    vocareum\n",
            "['notebook', 'piazza', 'utc']\n"
          ]
        }
      ]
    },
    {
      "cell_type": "code",
      "execution_count": 115,
      "id": "37fc0fd0",
      "metadata": {
        "id": "37fc0fd0",
        "colab": {
          "base_uri": "https://localhost:8080/"
        },
        "outputId": "ac8d1310-b2ce-47dd-a0d4-b740dc94cb79"
      },
      "outputs": [
        {
          "output_type": "stream",
          "name": "stdout",
          "text": [
            "['notebook', 'piazza', 'utc']\n"
          ]
        }
      ],
      "source": [
        "def syllabus_words_importance(syllabus_words, important_words):\n",
        "    ###\n",
        "    df_syllabus = pd.DataFrame(syllabus_words,columns=['word']).drop_duplicates()\n",
        "    df_imp = pd.DataFrame(important_words,columns=['imp'])\n",
        "    df_merge = pd.merge(df_syllabus,df_imp,left_on = 'word',right_on='imp',how = 'left').dropna().sort_values('word')\n",
        "    df_to_list =df_merge['word'].dropna().tolist()\n",
        "    ln_list = len(df_to_list)\n",
        "    if ln_list < 3:\n",
        "      return df_to_list\n",
        "    else:\n",
        "      return df_to_list[:3]\n",
        "\n",
        "\n",
        "    ###\n",
        "\n",
        "\n",
        "\n",
        "\n",
        "print(syllabus_words_importance(demo_syllabus_words, demo_important_words))"
      ]
    },
    {
      "cell_type": "code",
      "execution_count": 116,
      "id": "241ff46c",
      "metadata": {
        "id": "241ff46c",
        "colab": {
          "base_uri": "https://localhost:8080/"
        },
        "outputId": "b9061ebf-4576-42d9-d199-9bc9f18416c8"
      },
      "outputs": [
        {
          "output_type": "stream",
          "name": "stdout",
          "text": [
            "\n",
            "(Passed!)\n"
          ]
        }
      ],
      "source": [
        "# Test cell: syllabus_words_importance\n",
        "\n",
        "important_words_set = {'exams', 'bootcamp', 'office hours', 'prerequisites', 'honorlock', 'mre', 'open-book', 'open-note', 'schedule', 'drop-date', 'utc', 'autograder', 'vocareum', 'notebook', '48-hour extension', 'proctored exams', 'piazza'}\n",
        "assert isinstance(syllabus_words_importance(['the', 'a', 'utc', 'it', 'frequently', 'piazza', 'is', 'for', 'notebook', 'vocareum'], {'utc', 'autograder', 'vocareum', 'notebook', '48-hour extension', 'proctored exams', 'piazza'}), list), 'Sorry, your result is not a list!'\n",
        "assert syllabus_words_importance(['vocareum', 'it', 'find', 'vocareum'], important_words_set) == ['vocareum'], 'Sorry, your list of important words returned is not correct!'\n",
        "assert syllabus_words_importance(['honorlock', 'mre', 'open-book', 'schedule', 'the', 'the', 'on'], important_words_set) == ['honorlock', 'mre', 'open-book'], 'Sorry, your list of important words returned is not correct!'\n",
        "assert syllabus_words_importance(['bootcamp', 'all', 'open-note', 'open-note', 'bootcamp', 'determine', 'programming', 'make', 'exams'], important_words_set) == ['bootcamp', 'exams', 'open-note'], 'Sorry, your list of important words returned is not correct!'\n",
        "\n",
        "print(\"\\n(Passed!)\")"
      ]
    },
    {
      "cell_type": "markdown",
      "id": "ed94bb1a",
      "metadata": {
        "id": "ed94bb1a"
      },
      "source": [
        "## Exercise 3: What's Allowed on the Exams?\n",
        "\n",
        "**Testing Your Knowledge of:** Complex Nested Data\n",
        "\n",
        "<br>\n",
        "\n",
        "Now let's take a look at what is allowed and what is not allowed during the exams.\n",
        "\n",
        "**Input:**\n",
        "'exam_guidelines' is a dictionary of dictionaries of lists. The outermost keys are 'Allowed' and 'Not Allowed'. The value of each of these is another dictionary. This dictionary contains keys of different guideline categories (i.e. Online Resources, Technology, etc.), and its values are lists of specific examples for that category (i.e. Google, ChatGPT).\n",
        "\n",
        "**Tasks:**\n",
        "Complete the function **'find_guidelines'**:\n",
        "1. Create a new dictionary where the outer keys are the guideline categories, their values are a list of dictionaries where the keys are the specific examples for that category and their values are whether that specific example is 'Allowed' or 'Not Allowed'.\n",
        "\n",
        "**Output:**\n",
        "Return a new dictionary with the structure:\n",
        "\n",
        "```python\n",
        "{'Category 1': [{'Specific Example 1': 'Allowed/Not Allowed'}, {'Specific Example 2': 'Allowed/Not Allowed'}, ..], 'Category 2': [{'Specific Example 3': 'Allowed/Not Allowed'}, ..]}\n",
        "```"
      ]
    },
    {
      "cell_type": "code",
      "execution_count": 65,
      "id": "97f14d4c",
      "metadata": {
        "id": "97f14d4c"
      },
      "outputs": [],
      "source": [
        "### Define demo inputs\n",
        "demo_exam_guidelines = {'Allowed': {'Online Resources': ['Google', 'Practice Exam Solutions'],\n",
        "                                    'Physical Resources': ['Snacks'],\n",
        "                                    'Technology': ['One Computer'],\n",
        "                                   'Environment': ['Cats Making Noise', 'Music With Headphones'],\n",
        "                                   'Misc': ['Short Breaks']},\n",
        "                        'Not Allowed': {'Online Resources': ['ChatGPT', 'GitHub Copilot'],\n",
        "                                       'Technology': ['Multiple Computer Screens'],\n",
        "                                       'Environment': ['Talking with Friends or Family']}}"
      ]
    },
    {
      "cell_type": "markdown",
      "id": "855b4d88",
      "metadata": {
        "id": "855b4d88"
      },
      "source": [
        "A correct solution to the demo input should return:\n",
        "```python\n",
        "{'Online Resources': [{'Google': 'Allowed'}, {'Practice Exam Solutions': 'Allowed'}, {'ChatGPT': 'Not Allowed'}, {'GitHub Copilot': 'Not Allowed'}], 'Physical Resources': [{'Snacks': 'Allowed'}], 'Technology': [{'One Computer': 'Allowed'}, {'Multiple Computer Screens': 'Not Allowed'}], 'Environment': [{'Cats Making Noise': 'Allowed'}, {'Music With Headphones': 'Allowed'}, {'Talking with Friends or Family': 'Not Allowed'}], 'Misc': [{'Short Breaks': 'Allowed'}]}\n",
        "```"
      ]
    },
    {
      "cell_type": "code",
      "source": [
        "!pip install json_normalize"
      ],
      "metadata": {
        "colab": {
          "base_uri": "https://localhost:8080/"
        },
        "id": "gWh0GulvS8eU",
        "outputId": "fe66559b-693a-45e8-a5d1-3a437815e5f8"
      },
      "id": "gWh0GulvS8eU",
      "execution_count": 49,
      "outputs": [
        {
          "output_type": "stream",
          "name": "stdout",
          "text": [
            "Collecting json_normalize\n",
            "  Downloading json_normalize-1.1.0-py3-none-any.whl.metadata (8.8 kB)\n",
            "Downloading json_normalize-1.1.0-py3-none-any.whl (6.7 kB)\n",
            "Installing collected packages: json_normalize\n",
            "Successfully installed json_normalize-1.1.0\n"
          ]
        }
      ]
    },
    {
      "cell_type": "code",
      "source": [
        "import pandas as pd\n",
        "import json_normalize as jn\n",
        "exam_guidelines1 = {'Allowed': {'Online Resources': ['Google', 'Stack Overflow Existing Posts', 'W3 Schools'],\n",
        "                                'Physical Resources': ['Notes', 'Pen', 'Paper', 'Snacks', 'Drinks'],\n",
        "                                'Technology': ['One Computer', 'One Monitor', 'Calculator', 'Local IDEs'],\n",
        "                                'Environment': ['Cats', 'Dogs', 'People Walking by Occasionally', 'Light Background Noise Such as Neighbors Leaf Blowing', 'Listening to Music Using Headphones'],\n",
        "                                'Misc': ['Short Breaks Around 5 Minutes or Less', 'Talking Through the Solution with Yourself', 'Using Profanities to Express Displeasure with an Exam Question']},\n",
        "                    'Not Allowed': {'Online Resources': ['ChatGPT', 'GitHub Copilot', 'Collaboration with Others', 'Asking TAs for Coding Help'],\n",
        "                                    'Technology': ['Multiple Computer Screens', 'Cellphones', 'Tablets'],\n",
        "                                    'Environment': ['Talking with Friends or Family', 'Playing Music on Speakers', 'Taking the Exam in a Busy Public Setting'],\n",
        "                                    'Misc': ['Disappearing for 30 Minutes']}}\n",
        "df_exam = pd.DataFrame.from_dict(exam_guidelines1,orient='index')\n",
        "df_exam = pd.DataFrame.from_dict(demo_exam_guidelines,orient='index')\n",
        "df_exam_json = pd.json_normalize(df_exam)\n",
        "exam_guidelines2\n",
        "#print(df_exam_json)\n",
        "#print(df_exam)\n",
        "df_dict = pd.json_normalize(demo_exam_guidelines).to_dict(orient='index')[0]\n",
        "#print(df_dict)\n",
        "dict1 = {}\n",
        "dict0 = {}\n",
        "df = pd.DataFrame(columns=['innerkey','values','outerKey'])\n",
        "print(df)\n",
        "\n",
        "lst = []\n",
        "for outerKey, innerDict in exam_guidelines1.items():\n",
        "  for innerKey,values in innerDict.items():\n",
        "    if innerKey in dict0:\n",
        "       dict0[innerKey] +=1\n",
        "    else:\n",
        "       dict0[innerKey] = 1\n",
        "\n",
        "    for i in values:\n",
        "      dict4 = {i:outerKey}\n",
        "      lst.append(dict4)\n",
        "    #print(lst)\n",
        "    #dict1 = {innerKey:lst}\n",
        "    if innerKey in dict1:\n",
        "       dict1[innerKey] +=lst\n",
        "    else:\n",
        "       dict1[innerKey] = lst\n",
        "    lst=[]\n",
        "print(dict1)"
      ],
      "metadata": {
        "colab": {
          "base_uri": "https://localhost:8080/"
        },
        "id": "bkHHNNCs3l4y",
        "outputId": "971381e1-67c1-4c7e-99fc-71bf30791eec"
      },
      "id": "bkHHNNCs3l4y",
      "execution_count": 127,
      "outputs": [
        {
          "output_type": "stream",
          "name": "stdout",
          "text": [
            "Empty DataFrame\n",
            "Columns: [innerkey, values, outerKey]\n",
            "Index: []\n",
            "{'Online Resources': [{'Google': 'Allowed'}, {'Stack Overflow Existing Posts': 'Allowed'}, {'W3 Schools': 'Allowed'}, {'ChatGPT': 'Not Allowed'}, {'GitHub Copilot': 'Not Allowed'}, {'Collaboration with Others': 'Not Allowed'}, {'Asking TAs for Coding Help': 'Not Allowed'}], 'Physical Resources': [{'Notes': 'Allowed'}, {'Pen': 'Allowed'}, {'Paper': 'Allowed'}, {'Snacks': 'Allowed'}, {'Drinks': 'Allowed'}], 'Technology': [{'One Computer': 'Allowed'}, {'One Monitor': 'Allowed'}, {'Calculator': 'Allowed'}, {'Local IDEs': 'Allowed'}, {'Multiple Computer Screens': 'Not Allowed'}, {'Cellphones': 'Not Allowed'}, {'Tablets': 'Not Allowed'}], 'Environment': [{'Cats': 'Allowed'}, {'Dogs': 'Allowed'}, {'People Walking by Occasionally': 'Allowed'}, {'Light Background Noise Such as Neighbors Leaf Blowing': 'Allowed'}, {'Listening to Music Using Headphones': 'Allowed'}, {'Talking with Friends or Family': 'Not Allowed'}, {'Playing Music on Speakers': 'Not Allowed'}, {'Taking the Exam in a Busy Public Setting': 'Not Allowed'}], 'Misc': [{'Short Breaks Around 5 Minutes or Less': 'Allowed'}, {'Talking Through the Solution with Yourself': 'Allowed'}, {'Using Profanities to Express Displeasure with an Exam Question': 'Allowed'}, {'Disappearing for 30 Minutes': 'Not Allowed'}]}\n"
          ]
        }
      ]
    },
    {
      "cell_type": "code",
      "execution_count": 122,
      "id": "c7440226",
      "metadata": {
        "id": "c7440226",
        "colab": {
          "base_uri": "https://localhost:8080/"
        },
        "outputId": "2757e3d6-d96a-4452-82e9-bde541a0a34d"
      },
      "outputs": [
        {
          "output_type": "stream",
          "name": "stdout",
          "text": [
            "{'Online Resources': [{'Google': 'Allowed'}, {'Practice Exam Solutions': 'Allowed'}, {'ChatGPT': 'Not Allowed'}, {'GitHub Copilot': 'Not Allowed'}], 'Physical Resources': [{'Snacks': 'Allowed'}], 'Technology': [{'One Computer': 'Allowed'}, {'Multiple Computer Screens': 'Not Allowed'}], 'Environment': [{'Cats Making Noise': 'Allowed'}, {'Music With Headphones': 'Allowed'}, {'Talking with Friends or Family': 'Not Allowed'}], 'Misc': [{'Short Breaks': 'Allowed'}]}\n"
          ]
        }
      ],
      "source": [
        "import pandas as pd\n",
        "import json_normalize as jn\n",
        "\n",
        "def find_guidelines(exam_guidelines):\n",
        "    ###\n",
        "    ### YOUR CODE HERE\n",
        "    ###\n",
        "   df_exam = pd.DataFrame.from_dict(exam_guidelines,orient='index')\n",
        "   dict1 = {}\n",
        "   dict0 = {}\n",
        "\n",
        "   lst = []\n",
        "   for outerKey, innerDict in demo_exam_guidelines.items():\n",
        "      for innerKey,values in innerDict.items():\n",
        "        if innerKey in dict0:\n",
        "          dict0[innerKey] +=1\n",
        "        else:\n",
        "          dict0[innerKey] = 1\n",
        "\n",
        "        for i in values:\n",
        "           dict4 = {i:outerKey}\n",
        "           lst.append(dict4)\n",
        "    #print(lst)\n",
        "    #dict1 = {innerKey:lst}\n",
        "        if innerKey in dict1:\n",
        "          dict1[innerKey] +=lst\n",
        "        else:\n",
        "          dict1[innerKey] = lst\n",
        "        lst=[]\n",
        "   return(dict1)\n",
        "\n",
        "\n",
        "print(find_guidelines(demo_exam_guidelines))"
      ]
    },
    {
      "cell_type": "code",
      "execution_count": 128,
      "id": "58219518",
      "metadata": {
        "id": "58219518",
        "colab": {
          "base_uri": "https://localhost:8080/",
          "height": 376
        },
        "outputId": "14bfdad6-9a0c-4451-bb92-77e5bbb9d0c4"
      },
      "outputs": [
        {
          "output_type": "error",
          "ename": "AssertionError",
          "evalue": "Sorry, your dictionary returned is not correct!",
          "traceback": [
            "\u001b[0;31m---------------------------------------------------------------------------\u001b[0m",
            "\u001b[0;31mAssertionError\u001b[0m                            Traceback (most recent call last)",
            "\u001b[0;32m<ipython-input-128-5878212679bb>\u001b[0m in \u001b[0;36m<cell line: 25>\u001b[0;34m()\u001b[0m\n\u001b[1;32m     23\u001b[0m \u001b[0;32massert\u001b[0m \u001b[0misinstance\u001b[0m\u001b[0;34m(\u001b[0m\u001b[0mfind_guidelines\u001b[0m\u001b[0;34m(\u001b[0m\u001b[0mdemo_exam_guidelines\u001b[0m\u001b[0;34m)\u001b[0m\u001b[0;34m,\u001b[0m \u001b[0mdict\u001b[0m\u001b[0;34m)\u001b[0m\u001b[0;34m,\u001b[0m \u001b[0;34m'Sorry, your result is not a dictionary!'\u001b[0m\u001b[0;34m\u001b[0m\u001b[0;34m\u001b[0m\u001b[0m\n\u001b[1;32m     24\u001b[0m \u001b[0;32massert\u001b[0m \u001b[0mfind_guidelines\u001b[0m\u001b[0;34m(\u001b[0m\u001b[0mdemo_exam_guidelines\u001b[0m\u001b[0;34m)\u001b[0m \u001b[0;34m==\u001b[0m \u001b[0;34m{\u001b[0m\u001b[0;34m'Online Resources'\u001b[0m\u001b[0;34m:\u001b[0m \u001b[0;34m[\u001b[0m\u001b[0;34m{\u001b[0m\u001b[0;34m'Google'\u001b[0m\u001b[0;34m:\u001b[0m \u001b[0;34m'Allowed'\u001b[0m\u001b[0;34m}\u001b[0m\u001b[0;34m,\u001b[0m \u001b[0;34m{\u001b[0m\u001b[0;34m'Practice Exam Solutions'\u001b[0m\u001b[0;34m:\u001b[0m \u001b[0;34m'Allowed'\u001b[0m\u001b[0;34m}\u001b[0m\u001b[0;34m,\u001b[0m \u001b[0;34m{\u001b[0m\u001b[0;34m'ChatGPT'\u001b[0m\u001b[0;34m:\u001b[0m \u001b[0;34m'Not Allowed'\u001b[0m\u001b[0;34m}\u001b[0m\u001b[0;34m,\u001b[0m \u001b[0;34m{\u001b[0m\u001b[0;34m'GitHub Copilot'\u001b[0m\u001b[0;34m:\u001b[0m \u001b[0;34m'Not Allowed'\u001b[0m\u001b[0;34m}\u001b[0m\u001b[0;34m]\u001b[0m\u001b[0;34m,\u001b[0m \u001b[0;34m'Physical Resources'\u001b[0m\u001b[0;34m:\u001b[0m \u001b[0;34m[\u001b[0m\u001b[0;34m{\u001b[0m\u001b[0;34m'Snacks'\u001b[0m\u001b[0;34m:\u001b[0m \u001b[0;34m'Allowed'\u001b[0m\u001b[0;34m}\u001b[0m\u001b[0;34m]\u001b[0m\u001b[0;34m,\u001b[0m \u001b[0;34m'Technology'\u001b[0m\u001b[0;34m:\u001b[0m \u001b[0;34m[\u001b[0m\u001b[0;34m{\u001b[0m\u001b[0;34m'One Computer'\u001b[0m\u001b[0;34m:\u001b[0m \u001b[0;34m'Allowed'\u001b[0m\u001b[0;34m}\u001b[0m\u001b[0;34m,\u001b[0m \u001b[0;34m{\u001b[0m\u001b[0;34m'Multiple Computer Screens'\u001b[0m\u001b[0;34m:\u001b[0m \u001b[0;34m'Not Allowed'\u001b[0m\u001b[0;34m}\u001b[0m\u001b[0;34m]\u001b[0m\u001b[0;34m,\u001b[0m \u001b[0;34m'Environment'\u001b[0m\u001b[0;34m:\u001b[0m \u001b[0;34m[\u001b[0m\u001b[0;34m{\u001b[0m\u001b[0;34m'Cats Making Noise'\u001b[0m\u001b[0;34m:\u001b[0m \u001b[0;34m'Allowed'\u001b[0m\u001b[0;34m}\u001b[0m\u001b[0;34m,\u001b[0m \u001b[0;34m{\u001b[0m\u001b[0;34m'Music With Headphones'\u001b[0m\u001b[0;34m:\u001b[0m \u001b[0;34m'Allowed'\u001b[0m\u001b[0;34m}\u001b[0m\u001b[0;34m,\u001b[0m \u001b[0;34m{\u001b[0m\u001b[0;34m'Talking with Friends or Family'\u001b[0m\u001b[0;34m:\u001b[0m \u001b[0;34m'Not Allowed'\u001b[0m\u001b[0;34m}\u001b[0m\u001b[0;34m]\u001b[0m\u001b[0;34m,\u001b[0m \u001b[0;34m'Misc'\u001b[0m\u001b[0;34m:\u001b[0m \u001b[0;34m[\u001b[0m\u001b[0;34m{\u001b[0m\u001b[0;34m'Short Breaks'\u001b[0m\u001b[0;34m:\u001b[0m \u001b[0;...\n\u001b[0;32m---> 25\u001b[0;31m \u001b[0;32massert\u001b[0m \u001b[0mfind_guidelines\u001b[0m\u001b[0;34m(\u001b[0m\u001b[0mexam_guidelines1\u001b[0m\u001b[0;34m)\u001b[0m \u001b[0;34m==\u001b[0m \u001b[0;34m{\u001b[0m\u001b[0;34m'Online Resources'\u001b[0m\u001b[0;34m:\u001b[0m \u001b[0;34m[\u001b[0m\u001b[0;34m{\u001b[0m\u001b[0;34m'Google'\u001b[0m\u001b[0;34m:\u001b[0m \u001b[0;34m'Allowed'\u001b[0m\u001b[0;34m}\u001b[0m\u001b[0;34m,\u001b[0m \u001b[0;34m{\u001b[0m\u001b[0;34m'Stack Overflow Existing Posts'\u001b[0m\u001b[0;34m:\u001b[0m \u001b[0;34m'Allowed'\u001b[0m\u001b[0;34m}\u001b[0m\u001b[0;34m,\u001b[0m \u001b[0;34m{\u001b[0m\u001b[0;34m'W3 Schools'\u001b[0m\u001b[0;34m:\u001b[0m \u001b[0;34m'Allowed'\u001b[0m\u001b[0;34m}\u001b[0m\u001b[0;34m,\u001b[0m \u001b[0;34m{\u001b[0m\u001b[0;34m'ChatGPT'\u001b[0m\u001b[0;34m:\u001b[0m \u001b[0;34m'Not Allowed'\u001b[0m\u001b[0;34m}\u001b[0m\u001b[0;34m,\u001b[0m \u001b[0;34m{\u001b[0m\u001b[0;34m'GitHub Copilot'\u001b[0m\u001b[0;34m:\u001b[0m \u001b[0;34m'Not Allowed'\u001b[0m\u001b[0;34m}\u001b[0m\u001b[0;34m,\u001b[0m \u001b[0;34m{\u001b[0m\u001b[0;34m'Collaboration with Others'\u001b[0m\u001b[0;34m:\u001b[0m \u001b[0;34m'Not Allowed'\u001b[0m\u001b[0;34m}\u001b[0m\u001b[0;34m,\u001b[0m \u001b[0;34m{\u001b[0m\u001b[0;34m'Asking TAs for Coding Help'\u001b[0m\u001b[0;34m:\u001b[0m \u001b[0;34m'Not Allowed'\u001b[0m\u001b[0;34m}\u001b[0m\u001b[0;34m]\u001b[0m\u001b[0;34m,\u001b[0m \u001b[0;34m'Physical Resources'\u001b[0m\u001b[0;34m:\u001b[0m \u001b[0;34m[\u001b[0m\u001b[0;34m{\u001b[0m\u001b[0;34m'Notes'\u001b[0m\u001b[0;34m:\u001b[0m \u001b[0;34m'Allowed'\u001b[0m\u001b[0;34m}\u001b[0m\u001b[0;34m,\u001b[0m \u001b[0;34m{\u001b[0m\u001b[0;34m'Pen'\u001b[0m\u001b[0;34m:\u001b[0m \u001b[0;34m'Allowed'\u001b[0m\u001b[0;34m}\u001b[0m\u001b[0;34m,\u001b[0m \u001b[0;34m{\u001b[0m\u001b[0;34m'Paper'\u001b[0m\u001b[0;34m:\u001b[0m \u001b[0;34m'Allowed'\u001b[0m\u001b[0;34m}\u001b[0m\u001b[0;34m,\u001b[0m \u001b[0;34m{\u001b[0m\u001b[0;34m'Snacks'\u001b[0m\u001b[0;34m:\u001b[0m \u001b[0;34m'Allowed'\u001b[0m\u001b[0;34m}\u001b[0m\u001b[0;34m,\u001b[0m \u001b[0;34m{\u001b[0m\u001b[0;34m'Drinks'\u001b[0m\u001b[0;34m:\u001b[0m \u001b[0;34m'Allowed'\u001b[0m\u001b[0;34m}\u001b[0m\u001b[0;34m]\u001b[0m\u001b[0;34m,\u001b[0m \u001b[0;34m'Technology'\u001b[0m\u001b[0;34m:\u001b[0m \u001b[0;34m[\u001b[0m\u001b[0;34m{\u001b[0m\u001b[0;34m'One...\n\u001b[0m\u001b[1;32m     26\u001b[0m \u001b[0;32massert\u001b[0m \u001b[0mfind_guidelines\u001b[0m\u001b[0;34m(\u001b[0m\u001b[0mexam_guidelines2\u001b[0m\u001b[0;34m)\u001b[0m \u001b[0;34m==\u001b[0m \u001b[0;34m{\u001b[0m\u001b[0;34m'Online Resources'\u001b[0m\u001b[0;34m:\u001b[0m \u001b[0;34m[\u001b[0m\u001b[0;34m{\u001b[0m\u001b[0;34m'GeeksForGeeks'\u001b[0m\u001b[0;34m:\u001b[0m \u001b[0;34m'Allowed'\u001b[0m\u001b[0;34m}\u001b[0m\u001b[0;34m,\u001b[0m \u001b[0;34m{\u001b[0m\u001b[0;34m'Practice Exam Solutions'\u001b[0m\u001b[0;34m:\u001b[0m \u001b[0;34m'Allowed'\u001b[0m\u001b[0;34m}\u001b[0m\u001b[0;34m,\u001b[0m \u001b[0;34m{\u001b[0m\u001b[0;34m'Homework Solutions'\u001b[0m\u001b[0;34m:\u001b[0m \u001b[0;34m'Allowed'\u001b[0m\u001b[0;34m}\u001b[0m\u001b[0;34m,\u001b[0m \u001b[0;34m{\u001b[0m\u001b[0;34m'Asking TAs for Coding Help'\u001b[0m\u001b[0;34m:\u001b[0m \u001b[0;34m'Not Allowed'\u001b[0m\u001b[0;34m}\u001b[0m\u001b[0;34m]\u001b[0m\u001b[0;34m,\u001b[0m \u001b[0;34m'Physical Resources'\u001b[0m\u001b[0;34m:\u001b[0m \u001b[0;34m[\u001b[0m\u001b[0;34m{\u001b[0m\u001b[0;34m'Notes'\u001b[0m\u001b[0;34m:\u001b[0m \u001b[0;34m'Allowed'\u001b[0m\u001b[0;34m}\u001b[0m\u001b[0;34m,\u001b[0m \u001b[0;34m{\u001b[0m\u001b[0;34m'Snacks'\u001b[0m\u001b[0;34m:\u001b[0m \u001b[0;34m'Allowed'\u001b[0m\u001b[0;34m}\u001b[0m\u001b[0;34m,\u001b[0m \u001b[0;34m{\u001b[0m\u001b[0;34m'Drinks'\u001b[0m\u001b[0;34m:\u001b[0m \u001b[0;34m'Allowed'\u001b[0m\u001b[0;34m}\u001b[0m\u001b[0;34m]\u001b[0m\u001b[0;34m,\u001b[0m \u001b[0;34m'Technology'\u001b[0m\u001b[0;34m:\u001b[0m \u001b[0;34m[\u001b[0m\u001b[0;34m{\u001b[0m\u001b[0;34m'One Computer'\u001b[0m\u001b[0;34m:\u001b[0m \u001b[0;34m'Allowed'\u001b[0m\u001b[0;34m}\u001b[0m\u001b[0;34m,\u001b[0m \u001b[0;34m{\u001b[0m\u001b[0;34m'One Monitor'\u001b[0m\u001b[0;34m:\u001b[0m \u001b[0;34m'Allowed'\u001b[0m\u001b[0;34m}\u001b[0m\u001b[0;34m,\u001b[0m \u001b[0;34m{\u001b[0m\u001b[0;34m'Calculator'\u001b[0m\u001b[0;34m:\u001b[0m \u001b[0;34m'Allowed'\u001b[0m\u001b[0;34m}\u001b[0m\u001b[0;34m,\u001b[0m \u001b[0;34m{\u001b[0m\u001b[0;34m'Local IDEs'\u001b[0m\u001b[0;34m:\u001b[0m \u001b[0;34m'Allowed'\u001b[0m\u001b[0;34m}\u001b[0m\u001b[0;34m,\u001b[0m \u001b[0;34m{\u001b[0m\u001b[0;34m'Multiple Computer Screens'\u001b[0m\u001b[0;34m:\u001b[0m \u001b[0;34m'Not Allowed'\u001b[0m\u001b[0;34m}\u001b[0m\u001b[0;34m,\u001b[0m \u001b[0;34m...\n\u001b[1;32m     27\u001b[0m \u001b[0;34m\u001b[0m\u001b[0m\n",
            "\u001b[0;31mAssertionError\u001b[0m: Sorry, your dictionary returned is not correct!"
          ]
        }
      ],
      "source": [
        "# Test Cell: find_guidelines\n",
        "\n",
        "exam_guidelines1 = {'Allowed': {'Online Resources': ['Google', 'Stack Overflow Existing Posts', 'W3 Schools'],\n",
        "                                'Physical Resources': ['Notes', 'Pen', 'Paper', 'Snacks', 'Drinks'],\n",
        "                                'Technology': ['One Computer', 'One Monitor', 'Calculator', 'Local IDEs'],\n",
        "                                'Environment': ['Cats', 'Dogs', 'People Walking by Occasionally', 'Light Background Noise Such as Neighbors Leaf Blowing', 'Listening to Music Using Headphones'],\n",
        "                                'Misc': ['Short Breaks Around 5 Minutes or Less', 'Talking Through the Solution with Yourself', 'Using Profanities to Express Displeasure with an Exam Question']},\n",
        "                    'Not Allowed': {'Online Resources': ['ChatGPT', 'GitHub Copilot', 'Collaboration with Others', 'Asking TAs for Coding Help'],\n",
        "                                    'Technology': ['Multiple Computer Screens', 'Cellphones', 'Tablets'],\n",
        "                                    'Environment': ['Talking with Friends or Family', 'Playing Music on Speakers', 'Taking the Exam in a Busy Public Setting'],\n",
        "                                    'Misc': ['Disappearing for 30 Minutes']}}\n",
        "\n",
        "exam_guidelines2 = {'Allowed': {'Online Resources': ['GeeksForGeeks', 'Practice Exam Solutions', 'Homework Solutions'],\n",
        "                                'Physical Resources': ['Notes', 'Snacks', 'Drinks'],\n",
        "                                'Technology': ['One Computer', 'One Monitor', 'Calculator', 'Local IDEs'],\n",
        "                                'Environment': ['People Walking by Occasionally', 'Light Background Noise Such as Neighbors Leaf Blowing', 'Listening to Music Using Headphones'],\n",
        "                                'Misc': ['Making Private Piazza Post if You Encounter Technical Difficulties']},\n",
        "                    'Not Allowed': {'Online Resources': ['Asking TAs for Coding Help'],\n",
        "                                    'Technology': ['Multiple Computer Screens', 'Cellphones', 'Tablets'],\n",
        "                                    'Environment': ['Talking with Friends or Family', 'Playing Music on Speakers', 'Taking the Exam in a Busy Public Setting'],\n",
        "                                    'Misc': ['Threatening Bodily Harm to TAs Over Difficult Exam Question']}}\n",
        "\n",
        "assert isinstance(find_guidelines(demo_exam_guidelines), dict), 'Sorry, your result is not a dictionary!'\n",
        "assert find_guidelines(demo_exam_guidelines) == {'Online Resources': [{'Google': 'Allowed'}, {'Practice Exam Solutions': 'Allowed'}, {'ChatGPT': 'Not Allowed'}, {'GitHub Copilot': 'Not Allowed'}], 'Physical Resources': [{'Snacks': 'Allowed'}], 'Technology': [{'One Computer': 'Allowed'}, {'Multiple Computer Screens': 'Not Allowed'}], 'Environment': [{'Cats Making Noise': 'Allowed'}, {'Music With Headphones': 'Allowed'}, {'Talking with Friends or Family': 'Not Allowed'}], 'Misc': [{'Short Breaks': 'Allowed'}]}, 'Sorry, your dictionary returned is not correct!'\n",
        "assert find_guidelines(exam_guidelines1) == {'Online Resources': [{'Google': 'Allowed'}, {'Stack Overflow Existing Posts': 'Allowed'}, {'W3 Schools': 'Allowed'}, {'ChatGPT': 'Not Allowed'}, {'GitHub Copilot': 'Not Allowed'}, {'Collaboration with Others': 'Not Allowed'}, {'Asking TAs for Coding Help': 'Not Allowed'}], 'Physical Resources': [{'Notes': 'Allowed'}, {'Pen': 'Allowed'}, {'Paper': 'Allowed'}, {'Snacks': 'Allowed'}, {'Drinks': 'Allowed'}], 'Technology': [{'One Computer': 'Allowed'}, {'One Monitor': 'Allowed'}, {'Calculator': 'Allowed'}, {'Local IDEs': 'Allowed'}, {'Multiple Computer Screens': 'Not Allowed'}, {'Cellphones': 'Not Allowed'}, {'Tablets': 'Not Allowed'}], 'Environment': [{'Cats': 'Allowed'}, {'Dogs': 'Allowed'}, {'People Walking by Occasionally': 'Allowed'}, {'Light Background Noise Such as Neighbors Leaf Blowing': 'Allowed'}, {'Listening to Music Using Headphones': 'Allowed'}, {'Talking with Friends or Family': 'Not Allowed'}, {'Playing Music on Speakers': 'Not Allowed'}, {'Taking the Exam in a Busy Public Setting': 'Not Allowed'}], 'Misc': [{'Short Breaks Around 5 Minutes or Less': 'Allowed'}, {'Talking Through the Solution with Yourself': 'Allowed'}, {'Using Profanities to Express Displeasure with an Exam Question': 'Allowed'}, {'Disappearing for 30 Minutes': 'Not Allowed'}]}, 'Sorry, your dictionary returned is not correct!'\n",
        "assert find_guidelines(exam_guidelines2) == {'Online Resources': [{'GeeksForGeeks': 'Allowed'}, {'Practice Exam Solutions': 'Allowed'}, {'Homework Solutions': 'Allowed'}, {'Asking TAs for Coding Help': 'Not Allowed'}], 'Physical Resources': [{'Notes': 'Allowed'}, {'Snacks': 'Allowed'}, {'Drinks': 'Allowed'}], 'Technology': [{'One Computer': 'Allowed'}, {'One Monitor': 'Allowed'}, {'Calculator': 'Allowed'}, {'Local IDEs': 'Allowed'}, {'Multiple Computer Screens': 'Not Allowed'}, {'Cellphones': 'Not Allowed'}, {'Tablets': 'Not Allowed'}], 'Environment': [{'People Walking by Occasionally': 'Allowed'}, {'Light Background Noise Such as Neighbors Leaf Blowing': 'Allowed'}, {'Listening to Music Using Headphones': 'Allowed'}, {'Talking with Friends or Family': 'Not Allowed'}, {'Playing Music on Speakers': 'Not Allowed'}, {'Taking the Exam in a Busy Public Setting': 'Not Allowed'}], 'Misc': [{'Making Private Piazza Post if You Encounter Technical Difficulties': 'Allowed'}, {'Threatening Bodily Harm to TAs Over Difficult Exam Question': 'Not Allowed'}]}, 'Sorry, your dictionary returned is not correct!'\n",
        "\n",
        "\n",
        "print(\"\\n(Passed!)\")"
      ]
    },
    {
      "cell_type": "markdown",
      "id": "fd322704",
      "metadata": {
        "id": "fd322704"
      },
      "source": [
        "\n"
      ]
    },
    {
      "cell_type": "markdown",
      "id": "3e60a859",
      "metadata": {
        "id": "3e60a859"
      },
      "source": [
        "## Exercise 4: Lost in Translation\n",
        "**Testing Your Knowledge of:** String Manipulation + Nested Dictionaries\n",
        "\n",
        "<br>\n",
        "\n",
        "Professor Vuduc wants to welcome you to CSE 6040, but his message has sadly been distorted. Translate the input string 'distorted_msg' to discover Professor Vuduc's original welcome message!\n",
        "\n",
        "**Input:**\n",
        "There are three inputs:\n",
        "1. 'distorted_str' is a string containing Professor Vuduc's distorted message\n",
        "2. 'msg_style' is the style of the distorted message\n",
        "3. 'translation_dict' is a dictionary of dictionaries containing the message style as the outer key. The inner dictionary contains a mapping from the distorted word as the key to the correct word/phrase as the value.\n",
        "\n",
        "**Tasks:**\n",
        "Complete the function **'translate_msg'**:\n",
        "1. Convert 'distorted_str' into a list of words\n",
        "2. Iterate over this list, and try to lookup each word in 'translation_dict'. If a translation is found, add the translated word to a string. If not, add the original word to the string.\n",
        "\n",
        "*Hint*: Do not change any punctuation or capitalization. Simply split the input string using whitespace as the delimiter.\n",
        "\n",
        "**Output:**\n",
        "Return a string of the translated message.\n"
      ]
    },
    {
      "cell_type": "code",
      "execution_count": 2,
      "id": "8fbdb1ab",
      "metadata": {
        "id": "8fbdb1ab"
      },
      "outputs": [],
      "source": [
        "### Define demo inputs\n",
        "\n",
        "demo_distorted_str = '''Hi fam! Welcome to CSE 6040, no cap. I hope this course hits different, and you have\n",
        "a total glow up from learning new data analysis techniques periodt. Don't @ me, but I think our team of TAs\n",
        "slaps and will help you W the course.'''\n",
        "\n",
        "demo_translation_dict = {'cowboy': {'Howdy': 'Hi', 'partners!': 'class!', 'Ah': 'I', 'wanna': 'want to',\n",
        "                                    'extey-nd': 'extend', 'grand': 'very', 'ole': 'warm', 'ta': 'to', 'thuh': 'the',\n",
        "                                    'ya': 'you', 'programmin': 'programming', 'ave': 'have', 'all-fired': 'great',\n",
        "                                    'awf': 'of', 'eend': 'and', 'ahr': 'are', 'hair': 'here'},\n",
        "                         'gen_z': {'fam!': 'class!', 'no': 'we are so glad', 'cap.': 'to have you.',\n",
        "                                   'hits': 'challenges', 'different,': 'you,', 'total': 'great', 'glow': 'time',\n",
        "                                   'up': 'as', 'from': 'you', 'learning': 'learn', 'periodt.': 'throughout the semester.',\n",
        "                                   \"Don't\": 'I', '@': 'might be', 'me,': 'biased,', 'slaps': 'are fantastic',\n",
        "                                   'W': 'succeed in'},\n",
        "                         'shakespearean': {'Good': 'Greetings', 'morrow': 'new', 'class!': 'students!', 'wanteth': 'wanted',\n",
        "                                           'extendeth': 'extend', 'warmeth': 'warm', 'welcometh': 'welcome',\n",
        "                                           'desire': 'hope', 'thee': 'you', 'learneth': 'learn', \"f'r\": 'for',\n",
        "                                           \"has't\": 'have', 'most': 'absolute', 'wondrous': 'best', 'Wondrous': 'Best',\n",
        "                                           \"instructeth'rs\": 'instructors', 'art': 'are', \"h're\": 'here',\n",
        "                                           'holp': 'help', 'succeedeth': 'succeed'}\n",
        "                              }\n",
        "\n",
        "demo_msg_style = 'gen_z'\n"
      ]
    },
    {
      "cell_type": "markdown",
      "id": "46e2f615",
      "metadata": {
        "id": "46e2f615"
      },
      "source": [
        "**A correct solution to the demo input should return**:\n",
        "\n",
        "Hi class! Welcome to CSE 6040, we are so glad to have you. I hope this course challenges you, and you have a great time as you learn new data analysis techniques throughout the semester. I might be biased, but I think our team of TAs are fantastic and will help you succeed in the course.\n"
      ]
    },
    {
      "cell_type": "code",
      "source": [
        "import pandas as pd\n",
        "distorted_str_3 = '''\n",
        "Good morrow class! I wanteth to extendeth a warmeth welcometh to CSE 6040!\n",
        "I desire this course helps thee learneth new programming techniques f'r data analysis.\n",
        "We has't the most wondrous team of TAs and instructeth'rs who art h're to holp thee learneth and succeedeth\n",
        "in the course. Wondrous of luck!'''\n",
        "\n",
        "msg = distorted_str_3.replace('\\n',' ').replace('\\t',' ')\n",
        "ls_message = msg.split(' ')\n",
        "df_message = pd.DataFrame(ls_message)\n",
        "#print ( df_message)\n",
        "\n",
        "\n",
        "df_gen_z = pd.DataFrame.from_dict(demo_translation_dict,orient='index')\n",
        "df_map = df_gen_z.loc['shakespearean']\n",
        "df_map = df_map.dropna()\n",
        "dict_map = df_map.to_dict()\n",
        "\n",
        "df_message['translate'] = df_message[0].map(dict_map).fillna(df_message[0])\n",
        "#print(df_message)\n",
        "\n",
        "op_lst = df_message['translate'].tolist()\n",
        "op = ' '.join(op_lst)\n",
        "print(op)\n"
      ],
      "metadata": {
        "colab": {
          "base_uri": "https://localhost:8080/"
        },
        "id": "q0CciCrDQ_n7",
        "outputId": "ae50023d-482a-44e4-8396-ac85e18592ad"
      },
      "id": "q0CciCrDQ_n7",
      "execution_count": 43,
      "outputs": [
        {
          "output_type": "stream",
          "name": "stdout",
          "text": [
            " Greetings new students! I wanted to extend a warm welcome to CSE 6040! I hope this course helps you learn new programming techniques for data analysis. We have the absolute best team of TAs and instructors who are here to help you learn and succeed in the course. Best of luck!\n"
          ]
        }
      ]
    },
    {
      "cell_type": "code",
      "execution_count": 46,
      "id": "da811ed6",
      "metadata": {
        "id": "da811ed6",
        "colab": {
          "base_uri": "https://localhost:8080/"
        },
        "outputId": "9ab9ddb5-ea33-42a1-da4d-0cfb90177b61"
      },
      "outputs": [
        {
          "output_type": "stream",
          "name": "stdout",
          "text": [
            "Hi class! Welcome to CSE 6040, we are so glad to have you. I hope this course challenges you, and you have a great time as you learn new data analysis techniques throughout the semester. I might be biased, but I think our team of TAs are fantastic and will help you succeed in the course.\n"
          ]
        }
      ],
      "source": [
        "def translate_msg(distorted_str, msg_style, translation_dict):\n",
        "    ###\n",
        "    ### YOUR CODE HERE\n",
        "    msg = distorted_str.replace('\\n',' ').replace('\\t',' ').replace('\\r',' ')\n",
        "    ls_message = msg.split(' ')\n",
        "    df_message = pd.DataFrame(ls_message)\n",
        "\n",
        "    df_msg_style = pd.DataFrame.from_dict(translation_dict,orient = 'index')\n",
        "    df_map = df_msg_style.loc[msg_style].dropna()\n",
        "    dict_map = df_map.to_dict()\n",
        "    df_message['translate'] = df_message[0].map(dict_map).fillna(df_message[0])\n",
        "\n",
        "    op_lst = df_message['translate'].tolist()\n",
        "    op =' '.join(op_lst)\n",
        "    return(op)\n",
        "    ###\n",
        "\n",
        "\n",
        "\n",
        "\n",
        "\n",
        "print(translate_msg(demo_distorted_str, demo_msg_style, demo_translation_dict))"
      ]
    },
    {
      "cell_type": "code",
      "execution_count": 47,
      "id": "ab693168",
      "metadata": {
        "id": "ab693168",
        "colab": {
          "base_uri": "https://localhost:8080/",
          "height": 323
        },
        "outputId": "b318d323-f5ff-4b29-bda2-b5fe076a4841"
      },
      "outputs": [
        {
          "output_type": "error",
          "ename": "AssertionError",
          "evalue": "Sorry, your translated message is not correct!",
          "traceback": [
            "\u001b[0;31m---------------------------------------------------------------------------\u001b[0m",
            "\u001b[0;31mAssertionError\u001b[0m                            Traceback (most recent call last)",
            "\u001b[0;32m<ipython-input-47-c0290b9306c2>\u001b[0m in \u001b[0;36m<cell line: 37>\u001b[0;34m()\u001b[0m\n\u001b[1;32m     35\u001b[0m \u001b[0;32massert\u001b[0m \u001b[0mtranslate_msg\u001b[0m\u001b[0;34m(\u001b[0m\u001b[0mdistorted_str_1\u001b[0m\u001b[0;34m,\u001b[0m \u001b[0;34m'gen_z'\u001b[0m\u001b[0;34m,\u001b[0m \u001b[0mtranslation_dict\u001b[0m\u001b[0;34m)\u001b[0m \u001b[0;34m==\u001b[0m \u001b[0;34m'''Hi class! Welcome to CSE 6040, we are so glad to have you. I hope this course challenges you, and you have a great time as you learn new data analysis techniques throughout the semester. I might be biased, but I think our team of TAs are fantastic and will help you succeed in the course.'''\u001b[0m\u001b[0;34m,\u001b[0m \u001b[0;34m'Sorry, your translated message is not correct!'\u001b[0m\u001b[0;34m\u001b[0m\u001b[0;34m\u001b[0m\u001b[0m\n\u001b[1;32m     36\u001b[0m \u001b[0;32massert\u001b[0m \u001b[0mtranslate_msg\u001b[0m\u001b[0;34m(\u001b[0m\u001b[0mdistorted_str_2\u001b[0m\u001b[0;34m,\u001b[0m \u001b[0;34m'cowboy'\u001b[0m\u001b[0;34m,\u001b[0m \u001b[0mtranslation_dict\u001b[0m\u001b[0;34m)\u001b[0m \u001b[0;34m==\u001b[0m \u001b[0;34m'''Hi class! I want to extend a very warm welcome to CSE 6040! I hope the course helps you learn new programming techniques for data analysis. We have a great team of TAs and instructors who are here to help you learn and succeed in the course.'''\u001b[0m\u001b[0;34m,\u001b[0m \u001b[0;34m'Sorry, your translated message is not correct!'\u001b[0m\u001b[0;34m\u001b[0m\u001b[0;34m\u001b[0m\u001b[0m\n\u001b[0;32m---> 37\u001b[0;31m \u001b[0;32massert\u001b[0m \u001b[0mtranslate_msg\u001b[0m\u001b[0;34m(\u001b[0m\u001b[0mdistorted_str_3\u001b[0m\u001b[0;34m,\u001b[0m \u001b[0;34m'shakespearean'\u001b[0m\u001b[0;34m,\u001b[0m \u001b[0mtranslation_dict\u001b[0m\u001b[0;34m)\u001b[0m \u001b[0;34m==\u001b[0m \u001b[0;34m'''Greetings new students! I wanted to extend a warm welcome to CSE 6040! I hope this course helps you learn new programming techniques for data analysis. We have the absolute best team of TAs and instructors who are here to help you learn and succeed in the course. Best of luck!'''\u001b[0m\u001b[0;34m,\u001b[0m \u001b[0;34m'Sorry, your translated message is not correct!'\u001b[0m\u001b[0;34m\u001b[0m\u001b[0;34m\u001b[0m\u001b[0m\n\u001b[0m\u001b[1;32m     38\u001b[0m \u001b[0;34m\u001b[0m\u001b[0m\n\u001b[1;32m     39\u001b[0m \u001b[0mprint\u001b[0m\u001b[0;34m(\u001b[0m\u001b[0;34m\"\\n(Passed!)\"\u001b[0m\u001b[0;34m)\u001b[0m\u001b[0;34m\u001b[0m\u001b[0;34m\u001b[0m\u001b[0m\n",
            "\u001b[0;31mAssertionError\u001b[0m: Sorry, your translated message is not correct!"
          ]
        }
      ],
      "source": [
        "# Test Cell: translate_msg\n",
        "\n",
        "translation_dict = {'cowboy': {'Howdy': 'Hi', 'partners!': 'class!', 'Ah': 'I', 'wanna': 'want to',\n",
        "                                'extey-nd': 'extend', 'grand': 'very', 'ole': 'warm', 'ta': 'to', 'thuh': 'the',\n",
        "                                'ya': 'you', 'programmin': 'programming', 'ave': 'have', 'all-fired': 'great',\n",
        "                                'awf': 'of', 'eend': 'and', 'ahr': 'are', 'hair': 'here'},\n",
        "                    'gen_z': {'fam!': 'class!', 'no': 'we are so glad', 'cap.': 'to have you.',\n",
        "                              'hits': 'challenges', 'different,': 'you,', 'total': 'great', 'glow': 'time',\n",
        "                              'up': 'as', 'from': 'you', 'learning': 'learn', 'periodt.': 'throughout the semester.',\n",
        "                              \"Don't\": 'I', '@': 'might be', 'me,': 'biased,', 'slaps': 'are fantastic',\n",
        "                              'W': 'succeed in'},\n",
        "                    'shakespearean': {'Good': 'Greetings', 'morrow': 'new', 'class!': 'students!', 'wanteth': 'wanted',\n",
        "                                      'extendeth': 'extend', 'warmeth': 'warm', 'welcometh': 'welcome',\n",
        "                                      'desire': 'hope', 'thee': 'you', 'learneth': 'learn', \"f'r\": 'for',\n",
        "                                      \"has't\": 'have', 'most': 'absolute', 'wondrous': 'best', 'Wondrous': 'Best',\n",
        "                                      \"instructeth'rs\": 'instructors', 'art': 'are', \"h're\": 'here',\n",
        "                                      'holp': 'help', 'succeedeth': 'succeed'}\n",
        "                    }\n",
        "\n",
        "distorted_str_1 = '''Hi fam! Welcome to CSE 6040, no cap. I hope this course hits different, and you have\n",
        "a total glow up from learning new data analysis techniques periodt. Don't @ me, but I think our team of TAs\n",
        "slaps and will help you W the course.'''\n",
        "\n",
        "distorted_str_2 = '''Howdy partners! Ah wanna extey-nd a grand ole welcome ta CSE 6040! Ah hope thuh course helps ya\n",
        "learn new programmin techniques for data analysis. We ave a all-fired team awf TAs eend instructors who ahr hair ta\n",
        "help ya learn eend succeed in thuh course.'''\n",
        "\n",
        "distorted_str_3 = '''\n",
        "Good morrow class! I wanteth to extendeth a warmeth welcometh to CSE 6040!\n",
        "I desire this course helps thee learneth new programming techniques f'r data analysis.\n",
        "We has't the most wondrous team of TAs and instructeth'rs who art h're to holp thee learneth and succeedeth\n",
        "in the course. Wondrous of luck!'''\n",
        "\n",
        "assert isinstance(translate_msg(distorted_str_1, 'gen_z', translation_dict), str), 'Sorry, your result is not a string!'\n",
        "assert translate_msg(distorted_str_1, 'gen_z', translation_dict) == '''Hi class! Welcome to CSE 6040, we are so glad to have you. I hope this course challenges you, and you have a great time as you learn new data analysis techniques throughout the semester. I might be biased, but I think our team of TAs are fantastic and will help you succeed in the course.''', 'Sorry, your translated message is not correct!'\n",
        "assert translate_msg(distorted_str_2, 'cowboy', translation_dict) == '''Hi class! I want to extend a very warm welcome to CSE 6040! I hope the course helps you learn new programming techniques for data analysis. We have a great team of TAs and instructors who are here to help you learn and succeed in the course.''', 'Sorry, your translated message is not correct!'\n",
        "assert translate_msg(distorted_str_3, 'shakespearean', translation_dict) == '''Greetings new students! I wanted to extend a warm welcome to CSE 6040! I hope this course helps you learn new programming techniques for data analysis. We have the absolute best team of TAs and instructors who are here to help you learn and succeed in the course. Best of luck!''', 'Sorry, your translated message is not correct!'\n",
        "\n",
        "print(\"\\n(Passed!)\")"
      ]
    },
    {
      "cell_type": "markdown",
      "id": "49c402cc",
      "metadata": {
        "id": "49c402cc"
      },
      "source": [
        "## Exercise 5: (Possibly Fake) Course Reviews\n",
        "**Testing Your Knowledge of:** Debugging Code\n",
        "\n",
        "<br>\n",
        "One skill you will need to develop in this course is the ability to debug your solution. Errors are bound to happen, but good programmers can spot and rectify them. This exercise is all about pinpointing errors.\n",
        "\n",
        "In the cell below, we were careless coders, and our implementation of the function **count_words()** is buggy. Your task is to identify the issues and fix them by modifying the code accordingly. Correcting all issues will allow you to pass the test cell below. Good luck!\n",
        "\n",
        "Our **count_words** function *intended* to do the following:\n",
        "1. The input argument 'review' is a string.\n",
        "2. The input contains a sequence of zero or more words. A word is a sequence of alphabetic characters, and two words will be separated by one or more contiguous whitespace characters.\n",
        "3. The letters within a word may be uppercase or lowercase.\n",
        "4. The function should return a dictionary. Each key should be a word from the review **in all lowercase letters**. The corresponding value is the number of times that word occurred.\n",
        "\n",
        "\n",
        "For example,\n",
        "```python\n",
        "count_words('This COURSE course changed MY life   it is   so  SO AMAZING amAzing')\n",
        "```\n",
        "should return:\n",
        "\n",
        "```python\n",
        "{'this': 1, 'course': 2, 'changed': 1, 'my': 1, 'life': 1, 'it': 1, 'is': 1, 'so': 2, 'amazing': 2}\n",
        "```\n"
      ]
    },
    {
      "cell_type": "code",
      "execution_count": 138,
      "id": "2f46bda4",
      "metadata": {
        "id": "2f46bda4"
      },
      "outputs": [],
      "source": [
        "def count_words(review):\n",
        "    list_words_all =  review.lower(). split(' ')\n",
        "    list_words = ['$blank' if s=='' else s for s in list_words_all]\n",
        "\n",
        "    word_dictionary = {}\n",
        "    ls_d = list(set(list_words))\n",
        "    len_ls_d = len(ls_d)\n",
        "\n",
        "    x = 1\n",
        "    while x <= len_ls_d:\n",
        "      i = ls_d[x-1]\n",
        "      print(i)\n",
        "      for word in list_words:\n",
        "        if word==i and i != '$blank':\n",
        "          if i in word_dictionary:\n",
        "            word_dictionary[word] +=1\n",
        "          else:\n",
        "            word_dictionary[word] = 1\n",
        "      x+=1\n",
        "\n",
        "    print(word_dictionary)\n",
        "    return(word_dictionary)\n"
      ]
    },
    {
      "cell_type": "code",
      "execution_count": 139,
      "id": "d6f211bd",
      "metadata": {
        "id": "d6f211bd",
        "colab": {
          "base_uri": "https://localhost:8080/"
        },
        "outputId": "cd293f15-ef82-411b-b8b6-936e62500508"
      },
      "outputs": [
        {
          "output_type": "stream",
          "name": "stdout",
          "text": [
            "course\n",
            "$blank\n",
            "my\n",
            "so\n",
            "this\n",
            "changed\n",
            "life\n",
            "it\n",
            "is\n",
            "amazing\n",
            "{'course': 2, 'my': 1, 'so': 2, 'this': 1, 'changed': 1, 'life': 1, 'it': 1, 'is': 1, 'amazing': 2}\n"
          ]
        },
        {
          "output_type": "execute_result",
          "data": {
            "text/plain": [
              "{'course': 2,\n",
              " 'my': 1,\n",
              " 'so': 2,\n",
              " 'this': 1,\n",
              " 'changed': 1,\n",
              " 'life': 1,\n",
              " 'it': 1,\n",
              " 'is': 1,\n",
              " 'amazing': 2}"
            ]
          },
          "metadata": {},
          "execution_count": 139
        }
      ],
      "source": [
        "## Additional cell for debugging\n",
        "\n",
        "debug_text = 'This COURSE course changed MY life   it is   so  SO AMAZING amAzing'\n",
        "count_words(debug_text)"
      ]
    },
    {
      "cell_type": "code",
      "execution_count": 140,
      "id": "3b4622a0",
      "metadata": {
        "id": "3b4622a0",
        "colab": {
          "base_uri": "https://localhost:8080/"
        },
        "outputId": "e058f738-4b21-4c1d-ddad-429c8eba77bc"
      },
      "outputs": [
        {
          "output_type": "stream",
          "name": "stdout",
          "text": [
            "f\n",
            "iwdshlkdt\n",
            "hma\n",
            "$blank\n",
            "{'f': 2, 'iwdshlkdt': 1, 'hma': 2}\n",
            "oenjnk\n",
            "$blank\n",
            "branlagnzd\n",
            "pncbvjgez\n",
            "rc\n",
            "{'oenjnk': 3, 'branlagnzd': 4, 'pncbvjgez': 5, 'rc': 4}\n",
            "niwiddrhqp\n",
            "hzjbl\n",
            "$blank\n",
            "twojqe\n",
            "bbbmjoc\n",
            "{'niwiddrhqp': 2, 'hzjbl': 1, 'twojqe': 6, 'bbbmjoc': 6}\n",
            "s\n",
            "a\n",
            "dri\n",
            "$blank\n",
            "thalop\n",
            "xw\n",
            "{'s': 3, 'a': 2, 'dri': 1, 'thalop': 3, 'xw': 2}\n",
            "wyy\n",
            "$blank\n",
            "{'wyy': 9}\n",
            "$blank\n",
            "{}\n",
            "$blank\n",
            "my\n",
            "rcayd\n",
            "uzxcv\n",
            "jr\n",
            "{'my': 1, 'rcayd': 4, 'uzxcv': 3, 'jr': 3}\n",
            "otjuv\n",
            "$blank\n",
            "{'otjuv': 18}\n",
            "$blank\n",
            "j\n",
            "{'j': 1}\n",
            "vu\n",
            "$blank\n",
            "{'vu': 19}\n",
            "$blank\n",
            "{}\n",
            "$blank\n",
            "{}\n",
            "\n",
            "(Passed!)\n"
          ]
        }
      ],
      "source": [
        "# Test cell: count_words\n",
        "\n",
        "def gen_text():\n",
        "    from random import randrange, choice, choices\n",
        "    from collections import defaultdict\n",
        "    alphabet = ''.join([chr(k) for k in range(ord('a'), ord('z')+1)])\n",
        "    def gen_word(max_len=10):\n",
        "        return ''.join(choices(alphabet, k=randrange(1, max_len+1)))\n",
        "    def gen_vocab(max_len=5):\n",
        "        return {gen_word(): 0 for _ in range(randrange(1, max_len+1))}\n",
        "    def randomize_case(w):\n",
        "        if len(w) == 1:\n",
        "            return choice(w + w.upper())\n",
        "        return ''.join([randomize_case(c) for c in w])\n",
        "    def gen_sep(max_len=5, min_len=1):\n",
        "        return ' ' * randrange(min_len, max_len+1)\n",
        "    def gen_sentence(vocab, max_len=20):\n",
        "        sentence = gen_sep(min_len=0)\n",
        "        for i in range(randrange(0, max_len)):\n",
        "            word_i = choice(list(vocab.keys()))\n",
        "            vocab[word_i] += 1\n",
        "            sentence += randomize_case(word_i) + gen_sep(randrange(1, 5))\n",
        "        if randrange(0, 2):\n",
        "            sentence.rstrip()\n",
        "        return sentence\n",
        "    def remove_zero_counts(vocab):\n",
        "        return {w: c for w, c in vocab.items() if c > 0}\n",
        "\n",
        "    vocab = gen_vocab()\n",
        "    sentence = gen_sentence(vocab)\n",
        "    vocab_soln = remove_zero_counts(vocab)\n",
        "    return sentence, vocab_soln\n",
        "\n",
        "for _ in range(10):\n",
        "    sentence, answer = gen_text()\n",
        "    your_answer = count_words(sentence)\n",
        "    assert your_answer == answer, f\"Your solution did not work on the following input:\\n'{sentence}'\\nYou produced: {your_answer}\"\n",
        "\n",
        "assert len(count_words('')) == 0\n",
        "assert len(count_words('     ')) == 0\n",
        "\n",
        "print(\"\\n(Passed!)\")"
      ]
    }
  ],
  "metadata": {
    "kernelspec": {
      "display_name": "Python 3 (ipykernel)",
      "language": "python",
      "name": "python3"
    },
    "language_info": {
      "codemirror_mode": {
        "name": "ipython",
        "version": 3
      },
      "file_extension": ".py",
      "mimetype": "text/x-python",
      "name": "python",
      "nbconvert_exporter": "python",
      "pygments_lexer": "ipython3",
      "version": "3.10.6"
    },
    "colab": {
      "provenance": [],
      "include_colab_link": true
    }
  },
  "nbformat": 4,
  "nbformat_minor": 5
}